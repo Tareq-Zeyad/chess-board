{
 "cells": [
  {
   "cell_type": "markdown",
   "id": "0ea4b0e1-4673-43b3-8e35-8567c2444513",
   "metadata": {},
   "source": [
    "# This is markdown from jupyter, week 3 : Data Science. "
   ]
  },
  {
   "cell_type": "code",
   "execution_count": 29,
   "id": "133c393d",
   "metadata": {},
   "outputs": [],
   "source": [
    "import numpy as np\n",
    "import matplotlib.pyplot as plt"
   ]
  },
  {
   "cell_type": "code",
   "execution_count": 30,
   "id": "70343ded-403e-4c04-b16b-c6ea2cbe2801",
   "metadata": {
    "tags": []
   },
   "outputs": [],
   "source": [
    "\n",
    "\n",
    "class ChessBoard():\n",
    "    \"\"\"\n",
    "    The class for Chess Board to create a chess board using lists and pixels with rgb colors\n",
    "    \"\"\"\n",
    "    \n",
    "    def __init__(self):\n",
    "        self.board = np.ones([8,8,3])\n",
    "        for i in np.ndindex(8,8):\n",
    "            row = i[0]\n",
    "            col = i[1]\n",
    "\n",
    "            if row%2 != col%2:\n",
    "                self.board[row,col] = [0,0,0]\n",
    "    \n",
    "    def add_red(self, row, col):\n",
    "        \"\"\"\n",
    "        A method to add a red queen presenting by red square\n",
    "        \"\"\"\n",
    "        red_color = (255,0,0)\n",
    "        self.board[row,col] = red_color\n",
    "        self.red_color = [row,col]\n",
    "    \n",
    "    def add_blue(self, row, col):\n",
    "        \"\"\"\n",
    "        A method to add another queen in blue color presenting by blue square \n",
    "        \"\"\"\n",
    "        blue_color = (0,0,255)\n",
    "        self.board[row][col] = blue_color\n",
    "        self.blue_color = [row,col]\n",
    "    \n",
    "    def render(self):\n",
    "        \"\"\"\n",
    "        A method to render the chess board \n",
    "        \"\"\"\n",
    "        plt.imshow(self.board)\n",
    "    \n",
    "    def is_under_attack(self):\n",
    "        \"\"\"\n",
    "        A method to check wether the two queens might attack if they meet directly in vertical, horizontal or diagnol position \n",
    "        \"\"\"\n",
    "        if self.red_color[0] == self.blue_color[0] or self.red_color[1] == self.blue_color[1] or (self.blue_color[0]-self.red_color[0] == self.blue_color[1]-self.red_color[1]):\n",
    "            return True\n",
    "        else:\n",
    "            return False\n"
   ]
  },
  {
   "cell_type": "code",
   "execution_count": 31,
   "id": "a906365d-240d-45b0-aff5-e3ef4bb120c1",
   "metadata": {},
   "outputs": [
    {
     "name": "stderr",
     "output_type": "stream",
     "text": [
      "Clipping input data to the valid range for imshow with RGB data ([0..1] for floats or [0..255] for integers).\n"
     ]
    },
    {
     "data": {
      "text/plain": [
       "False"
      ]
     },
     "execution_count": 31,
     "metadata": {},
     "output_type": "execute_result"
    },
    {
     "data": {
      "image/png": "[encoded data removed]",
      "text/plain": [
       "<Figure size 432x288 with 1 Axes>"
      ]
     },
     "metadata": {
      "needs_background": "light"
     },
     "output_type": "display_data"
    }
   ],
   "source": [
    "board = ChessBoard()\n",
    "board.add_red(2, 7)\n",
    "board.add_blue(1,4)\n",
    "board.render()\n",
    "board.is_under_attack()"
   ]
  },
  {
   "cell_type": "code",
   "execution_count": 32,
   "id": "fa605ea9",
   "metadata": {},
   "outputs": [
    {
     "name": "stderr",
     "output_type": "stream",
     "text": [
      "Clipping input data to the valid range for imshow with RGB data ([0..1] for floats or [0..255] for integers).\n"
     ]
    },
    {
     "name": "stdout",
     "output_type": "stream",
     "text": [
      "True\n"
     ]
    },
    {
     "data": {
      "image/png": "[encoded data removed]",
      "text/plain": [
       "<Figure size 432x288 with 1 Axes>"
      ]
     },
     "metadata": {
      "needs_background": "light"
     },
     "output_type": "display_data"
    }
   ],
   "source": [
    "# If horizontaly on the same line\n",
    "hor = ChessBoard()\n",
    "hor.add_blue(1,4)\n",
    "hor.add_red(1,3)\n",
    "print(hor.is_under_attack())\n",
    "hor.render()"
   ]
  },
  {
   "cell_type": "code",
   "execution_count": 33,
   "id": "43ef793e",
   "metadata": {},
   "outputs": [
    {
     "name": "stderr",
     "output_type": "stream",
     "text": [
      "Clipping input data to the valid range for imshow with RGB data ([0..1] for floats or [0..255] for integers).\n"
     ]
    },
    {
     "name": "stdout",
     "output_type": "stream",
     "text": [
      "True\n"
     ]
    },
    {
     "data": {
      "image/png": "[encoded data removed]",
      "text/plain": [
       "<Figure size 432x288 with 1 Axes>"
      ]
     },
     "metadata": {
      "needs_background": "light"
     },
     "output_type": "display_data"
    }
   ],
   "source": [
    "# If vertically on the same line above each other\n",
    "ver = ChessBoard()\n",
    "ver.add_blue(1,4)\n",
    "ver.add_red(5,4)\n",
    "print(ver.is_under_attack())\n",
    "ver.render()"
   ]
  },
  {
   "cell_type": "code",
   "execution_count": 34,
   "id": "9a2719ef",
   "metadata": {},
   "outputs": [
    {
     "name": "stderr",
     "output_type": "stream",
     "text": [
      "Clipping input data to the valid range for imshow with RGB data ([0..1] for floats or [0..255] for integers).\n"
     ]
    },
    {
     "name": "stdout",
     "output_type": "stream",
     "text": [
      "True\n"
     ]
    },
    {
     "data": {
      "image/png": "[encoded data removed]",
      "text/plain": [
       "<Figure size 432x288 with 1 Axes>"
      ]
     },
     "metadata": {
      "needs_background": "light"
     },
     "output_type": "display_data"
    }
   ],
   "source": [
    "# If the two queens are on the same line diagonally\n",
    "dog = ChessBoard()\n",
    "dog.add_blue(6,6)\n",
    "dog.add_red(3,3)\n",
    "assert dog.is_under_attack() == True\n",
    "print (dog.is_under_attack())\n",
    "dog.render()"
   ]
  },
  {
   "cell_type": "code",
   "execution_count": 35,
   "id": "f9906cff",
   "metadata": {},
   "outputs": [
    {
     "name": "stderr",
     "output_type": "stream",
     "text": [
      "Clipping input data to the valid range for imshow with RGB data ([0..1] for floats or [0..255] for integers).\n"
     ]
    },
    {
     "name": "stdout",
     "output_type": "stream",
     "text": [
      "False\n"
     ]
    },
    {
     "data": {
      "image/png": "[encoded data removed]",
      "text/plain": [
       "<Figure size 432x288 with 1 Axes>"
      ]
     },
     "metadata": {
      "needs_background": "light"
     },
     "output_type": "display_data"
    }
   ],
   "source": [
    "# if they are not on the same line in any direction\n",
    "chess = ChessBoard()\n",
    "chess.add_red(5,4)\n",
    "chess.add_blue(1,6)\n",
    "print(chess.is_under_attack())\n",
    "chess.render()"
   ]
  }
 ],
 "metadata": {
  "kernelspec": {
   "display_name": "Python 3 (ipykernel)",
   "language": "python",
   "name": "python3"
  },
  "language_info": {
   "codemirror_mode": {
    "name": "ipython",
    "version": 3
   },
   "file_extension": ".py",
   "mimetype": "text/x-python",
   "name": "python",
   "nbconvert_exporter": "python",
   "pygments_lexer": "ipython3",
   "version": "3.9.5"
  }
 },
 "nbformat": 4,
 "nbformat_minor": 5
}
